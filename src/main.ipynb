{
 "cells": [
  {
   "cell_type": "markdown",
   "id": "35b85806",
   "metadata": {
    "id": "35b85806",
    "tags": []
   },
   "source": [
    "# __Trabalho Prático 1 - Classificador Supervisionado__\n",
    "\n",
    "Desenvolvendo um classificador supervisionado utilizando conceitos de geometria computacional.\n",
    "\n",
    "#### __Disciplina:__ Algoritmos II\n",
    "\n",
    "#### __Grupo:__\n",
    "Vinicius Silva Gomes - 2021421869\n",
    "\n",
    "Mirna Mendonça e Silva - 2021421940\n",
    "\n",
    "Daniel Barreto Torres - 2018432952\n",
    "\n",
    "---\n",
    "\n",
    "## __Introdução__\n",
    "O objetivo principal do trabalho é implementar um classificador supervisionado a partir de conceitos e algoritmos de geometria computacional. Assim, dado dois conjuntos de pontos no plano e suas respectivas classificações, devemos construir uma reta classificadora a partir dos conjuntos e predizer a classe de novas amostras desconhecidas. Esses conjuntos podem ser arbitrários ou vindos de datasets externos. A título deste trabalho, será apresentado, inicialmente, dois exemplos mais simples, com poucos pontos e de modo que todo o processo possa ser visualizado e entendido da melhor forma e, após isso, uma etapa de experimentação utilizando bases de dados externas vindas do repositório de datasets KEEL, visando avaliar a qualidade do método de classificação proposto.\n",
    "\n",
    "Nesse arquivo encontram-se o código fonte de todas funções executadas pelo programa, assim como a explicação de cada uma delas (em alto ou baixo nível, de acordo com a necessidade), além da documentação de como foi feita a Modelagem Computacional do problema, como funcionou a etapa de Experimentação e, por fim, quais foram os Resultados obtidos após os experimentos e as Conclusões finais. Para colocar o classificador em prática basta executar cada célula presente neste _notebook_ e avaliá-lo a partir dos retornos do código/gráficos e resultados mostrados.\n",
    "\n",
    "## __Modelagem Computacional__\n",
    "Para construir um classificador baseado em algoritmos geométricos e utilizando apenas os atributos dos conjuntos de dados, foi utilizada uma abordagem muito simples e intuitiva. Primeiramente, serão definidas as envoltórias convexas para cada classe do conjunto (serão consideradas apenas duas classes, mesmo que o conjunto possua mais classes), considerando uma 2-tupla de atributos do dataset (coordenadas X e Y para definir um ponto no plano). Após isso, haverá a verificação se essas envoltórias são linearmente separáveis. Caso não sejam, é sinal de que é impossível classificar as amostras através de um classificador linear, baseando-se nos atributos escolhidos. Caso sejam, significa que a reta classificadora pode ser traçada e que novas amostras podem ser classificadas a partir dela. O critério para definir os coeficientes da reta será feito a partir dos pontos mais próximos entre as envoltórias. A reta que cruza o ponto médio do segmento definido por esses pontos, construindo um ângulo de 90º com o segmento (reta inversa), irá possibilitar a classificação de amostras cujo _ground truth_ não seja conhecido.\n",
    "\n",
    "### __Classes__\n",
    "\n",
    "Para simplificar o acesso aos atributos de cada conjunto de dados, a classe ___Sample___ foi criada contendo as coordenadas $(x, y)$ da posição da amostra no plano e o _ground truth_ para aquela amostra. Dessa forma, o acesso a esses atributos pode ser generalizado, o que facilita a manipulação dos datasets, visto que cada um deles teria nomes de atributos diferentes destinados a cada um dos eixos do plano. De fato, na fase de experimentação, um dos primeiros passos é mapear todas as instâncias do dataset para uma instância de Sample, facilitando demais a manipulação dos pontos e a execução dos métodos.\n",
    "\n",
    "Além disso, outras duas classes foram definidas para auxiliar na varredura linear, algoritmo que verifica a separabilidade linear das envoltórias. Foram criadas as classes __Segment__ e __Event__. A classe Segment instancia dois atributos do tipo Sample, um que marca o início do segmento e outro que marca o fim. A classe Event, por sua vez, é um pouco mais complexa. Ela contém atributos $(x, y)$ da posição do ponto no plano, a identificação se aquele ponto é o ponto de início de algum segmento, a classe para a qual aquele ponto faz parte e o índice que identifica o segmento que esse ponto faz parte (índice para o vetor que armazena o segmento que contém o ponto).\n",
    "\n",
    "Essas classes irão facilitar o acesso e a manipulação dos pontos ao longo do código de maneira mais genérica e universal, o que permite que o código se extenda para datasets de naturezas muito variadas.\n",
    "\n",
    "\n",
    "### __Algoritmos de Geometria Computacional__\n",
    "\n",
    "Definidas as classes principais para representar os dados ao longo dos algoritmos, podem ser estudados, então, os algoritmos geométricos utilizados em cada etapa do processo de classificação.\n",
    "\n",
    "#### __Envoltórias Convexas__\n",
    "\n",
    "Para computar as envoltórias convexas, será utilizado o algoritmo Graham Scan, que é capaz de montar a envoltória convexa para um conjunto arbitrário de pontos em tempo $\\mathcal{O}(n \\log{}n)$. De maneira simplificada, o Graham Scan ordena os pontos do conjunto a partir da coordenada polar em relação a um âncora definido previamente. Esse âncora é o elemento com a menor coordenada $y$ e mais a esquerda do conjunto (menor coordenada $x$, caso hajam pontos com a mesma coordenada $y$). Após a ordenação, pontos que tiverem sob a mesma coordenada polar em relação ao âncora serão removidos, mantendo apenas aquele que esteja a maior distância euclidiana do âncora. Por fim, o algoritmo insere os pontos do conjunto em uma pilha, seguindo o critério de que toda nova inserção deve realizar um giro anti-horário em relação aos dois elementos anteriores na pilha. Caso o giro seja em sentido horário, o elemento do topo da pilha deve ser desempilhado e a comparação é refeita com relação ao novo topo e o elemento anterior a ele, até que um giro em sentido anti-horário seja obtido. Dessa forma, após processar todos os pontos, o algoritmo retorna o conteúdo da pilha, que nada mais é que a envoltória para aquele conjunto de pontos, garantindo que o polígono formado seja convexo e que todos os pontos que não são vértices dele se encontram dentro do polígono.\n",
    "\n",
    "#### __Separabilidade Linear com um algoritmo de Varredura__\n",
    "\n",
    "Além da Varredura de Graham, para verificar se as duas envoltórias são linearmente separáveis, podemos utilizar o algoritmo de varredura linear para verificar interseção entre um conjunto de segmentos. Desse modo, as duas envoltórias serão linearmente separáveis apenas se as únicas interseções presentes no conjunto de segmentos que resulta da união de ambas as envoltórias forem entre os segmentos da própria envoltória. Esse algoritmo é capaz de fazer isso a partir da ordenação dos segmentos/eventos e, além disso, utiliza uma árvore binária balanceada (AVL ou Rubro-Negra, por exemplo) para reduzir o custo de tempo das comparações que são necessárias. O algoritmo funciona de maneira bem simples: os segmentos das duas envoltórias são ordenados a partir da coordenada $x$ (desempate através dos pontos de início e da menor coordenada $y$) e a varredura linear é feita da esquerda para direita, passando por todos os eventos (terminais) dos segmentos. Esses segmentos serão inseridos na árvore balanceada, indexados pela coordenada $y$ do terminal. Assim, quando há inserção ou remoção na árvore, segmentos adjacentes são comparados. Com isso, o número de comparações é reduzido e, por utilizar uma estratégia mais inteligente que a compração todos contra todos, a complexidade temporal do algoritmo é reduzida, sendo $\\mathcal{O}(n \\log{}n)$ assim como para o Graham Scan. Então, caso seja detectado a interseção entre dois segmentos que não pertencem a mesma classe (interseção entre segmentos de envoltórias diferentes), significa que as envoltórias não são linearmente separáveis e, portanto, não conseguimos classificar as amostras a partir de um classificador linear.\n",
    "\n",
    "#### __Primitivas Geométricas__\n",
    "\n",
    "Para realizar essas computações, especialmente as comparações de coordenadas polares ao construir a envoltória convexa e verificar a separabilidade linear das envoltórias, serão utilizadas apenas as primitivas geométricas (posição relativa entre segmentos e o método para verificar se há interseção entre dois segmentos), de modo a evitar ao máximo divisões, funções trigonométricas, etc; evitando, com isso, imprecisões numéricas e problemas como _underflow_ e/ou _overflow_.\n",
    "\n",
    "A posição relativa entre segmentos pode ser calculada a partir do produto vetorial entre os segmentos e o sinal do resultado analisado. Caso seja igual a zero, os segmentos são colineares, caso seja negativo o primeiro segmento está em sentido anti-horário em relação ao segundo e, por fim, caso seja positivo o primeiro segmento está em sentido horário em relação ao segundo.\n",
    "\n",
    "Ademais, a interseção entre segmentos pode ser calculada utilizando a primitiva de posição relativa, comparando-se os terminais de cada segmento de modo que, o segmento formado pelo terminal de deles conectado aos terminais do outro segmento fiquem em posições relativas alternadas (um está em sentido horário e o outro em sentido anti-horário e vice-versa). Repetindo o processo para o outro segmento, caso os segmentos também estejam em posições relativas alternadas, é possível ter certeza que esses segmentos se cruzam em algum ponto. Fora isso, o outro caso a ser analisado é quando um dos terminais de um segmento é colinear ao outro. Nesse caso, além desses testes, deve ser verificado se o terminal colinear está contido dentro do outro segmento. Caso sim, há interseção e caso não, não há.\n",
    "\n",
    "#### __Reta do Classificador__\n",
    "\n",
    "Por último, a reta do classificador deve ser calculada. Para tanto, os dois vértices mais próximos entre as envoltórias são selecionados, supomos aqui $a = (x_a, y_a)$ e $b = (x_b, y_b)$, e o segmento $\\overline{ab}$ que conecte ambos será traçado. A reta $r$ será definida a partir deste segmento da seguinte forma: ela deverá ter direção inversa em relação ao segmento que conecta os pontos e cortá-lo no ponto médio. Usando conceitos básicos de geometria analítica e álgebra linear, podemos calcular os coeficientes $\\beta_0$ e $\\beta_1$ (coeficiente linear e angular, respectivamente) da reta a partir das seguintes equações:\n",
    "\n",
    "$$\\beta_1 = -\\frac{1}{\\frac{y_b - y_a}{x_b - x_a}}$$\n",
    "\n",
    "$$\\beta_0 = (y_a + \\frac{y_b - y_a}{2}) - \\beta_1 \\cdot (x_a + \\frac{x_b - x_a}{2})$$\n",
    "\n",
    "A primeira equação define o $\\beta_1$, coeficiente angular da reta, a partir do coeficiente angular da reta que sobrepõe o segmento formado pelos pontos $a$ e $b$. Para tanto, podemos obter o coeficiente angular dessa reta, através da equação $m = \\frac{y_b - y_a}{x_b - x_a}$, e inverter esse resultado, conseguindo a equação $\\beta_1 = -\\frac{1}{m}$ (equivalente a equação definida inicialmente).\n",
    "\n",
    "A segunda equação, por sua vez, obtém o $\\beta_0$ a partir do $\\beta_1$ obtido anteriormente e do ponto conhecido que essa reta cruza: o ponto médio do segmento $\\overline{ab}$. Dessa forma, é possível obter o $\\beta_0$ e, com isso, conseguir os dois coeficientes necessários para determinar a reta.\n",
    "\n",
    "Além disso, é necessário enfatizar que, caso as subtrações $x_b - x_a$ ou $y_b - y_a$ sejam iguais a zero, significa que os pontos estão sob a mesma coordenada $x$ ou $y$ e diferem apenas na outra coordenada. Nesse caso, ou a reta é horizontal, paralela ao eixo das abscissas, ou é vertical, paralela ao eixo das ordenadas. Assim, a reta tem $\\beta_1 = 0$ (reta horizontal) para o primeiro caso e a reta é $x = x_a + \\frac{x_b - x_a}{2}$ (reta vertical) para o segundo caso.\n",
    "\n",
    "Com essa reta em mãos, para classificar uma amostra basta calcular o $\\hat{y}$ a partir de seu $x_0$ e comparar com o $y_0$ original da amostra (ou no caso da reta vertical, comparar o $x$ da amostra com a posição da reta vertical). Se ambos forem iguais a amostra não pode ser classificada, pois está em cima do classificador. Caso não, se $y_0 < \\hat{y}$ a amostra receberá a _label_ da envoltória respectiva a esse lado da reta. Da mesma forma, se $y_0 > \\hat{y}$ a amostra receberá a _label_ da outra envoltória que compôs o classificador. Dessa forma, é possível criar um modelo de classificação supervisionado capaz de classificar pontos a partir de um conjunto cujas classes sejam linearmente separáveis e extender seu uso para datasets externos, presentes na _Web_. No caso dos datasets, a etapa de processamento do conjunto é um pouco mais complexa. Essas nuânces serão melhor discutidas na seção de Experimentação do trabalho.\n",
    "\n",
    "## __Implementação__\n",
    "A implementação da solução para o problema foi feita em Python e o códugo fonte para as funções produzidas pode ser observado a seguir. As funções apresentam breves comentários a respeito de detalhes de sua implementação e o que cada trecho faz no código. "
   ]
  },
  {
   "cell_type": "code",
   "execution_count": 1,
   "id": "5c34ca18",
   "metadata": {
    "id": "5c34ca18"
   },
   "outputs": [],
   "source": [
    "# Importando as bibliotecas e configurações iniciais delas\n",
    "\n",
    "import numpy as np\n",
    "import pandas as pd\n",
    "import matplotlib.pyplot as plt\n",
    "\n",
    "from bintrees import RBTree\n",
    "\n",
    "from functools import cmp_to_key\n",
    "\n",
    "from math import sqrt, floor\n",
    "\n",
    "import random\n",
    "\n",
    "from sklearn.decomposition import PCA\n",
    "from sklearn.preprocessing import StandardScaler\n",
    "\n",
    "import sys\n",
    "\n",
    "plt.rcParams['figure.figsize']  = (12, 6)\n",
    "plt.rcParams['axes.labelsize']  = 12\n",
    "plt.rcParams['axes.titlesize']  = 12\n",
    "plt.rcParams['legend.fontsize'] = 12\n",
    "plt.rcParams['xtick.labelsize'] = 12\n",
    "plt.rcParams['ytick.labelsize'] = 12\n",
    "plt.rcParams['lines.linewidth'] = 1\n",
    "\n",
    "plt.ion()\n",
    "plt.style.use('seaborn-colorblind')"
   ]
  },
  {
   "cell_type": "markdown",
   "id": "af4e9173-28bb-4ed6-b2d8-13b777b74e01",
   "metadata": {
    "id": "af4e9173-28bb-4ed6-b2d8-13b777b74e01"
   },
   "source": [
    "### __Classes Principais__\n",
    "\n",
    "Definição das classes usadas ao longo do algoritmo, para facilitar a classificação e a manipulação, de maneira geral, dos pontos ao longo dos algoritmos."
   ]
  },
  {
   "cell_type": "code",
   "execution_count": 2,
   "id": "53695060-d6a0-4bcf-97c4-80514fed453e",
   "metadata": {
    "id": "53695060-d6a0-4bcf-97c4-80514fed453e"
   },
   "outputs": [],
   "source": [
    "# Definição das classes Sample, Segment e Event\n",
    "\n",
    "class Sample:\n",
    "    def __init__(self, x = None, y = None, label = None):\n",
    "        self.x = x\n",
    "        self.y = y\n",
    "        self.label = label\n",
    "    \n",
    "class Segment:\n",
    "    def __init__(self, start = None, end = None):\n",
    "        self.start = start\n",
    "        self.end = end\n",
    "        \n",
    "class Event:\n",
    "    def __init__(self, x = None, y = None, start = None, label = None, index = None):\n",
    "        self.x = x\n",
    "        self.y = y\n",
    "        self.start = start\n",
    "        self.label = label\n",
    "        self.index = index\n",
    "        \n",
    "    def __lt__(self, other):\n",
    "        if self.y == other.y:\n",
    "            return (self.x < other.x)\n",
    "        \n",
    "        return (self.y < other.y)"
   ]
  },
  {
   "cell_type": "markdown",
   "id": "eb22ba0b-4282-41f6-bf24-51de791ab262",
   "metadata": {
    "id": "eb22ba0b-4282-41f6-bf24-51de791ab262"
   },
   "source": [
    "### __Métodos Auxiliares e de Visualização__\n",
    "\n",
    "Aqui são definidas as funções de plotagem dos pontos, envoltórias, classificador, etc. Além disso, são definidas as funções auxiliares usadas de maneira intermediária pelos algoritmos principais que computam as envoltórias, a varredura linear, o classificador e o processo de classificação, etc."
   ]
  },
  {
   "cell_type": "code",
   "execution_count": 3,
   "id": "957bd8f9-c809-4674-927a-ce6b671799ef",
   "metadata": {
    "id": "957bd8f9-c809-4674-927a-ce6b671799ef"
   },
   "outputs": [],
   "source": [
    "# Métodos para visualização das etapas da classificação\n",
    "\n",
    "# Plota os dois conjuntos no plano\n",
    "def plot_sets(set_a, set_b, label_a = \"\", label_b = \"\", title = \"Conjuntos no plano\"):\n",
    "    plt.scatter([item.x for item in set_a], [item.y for item in set_a], color=\"green\", label=label_a)\n",
    "    plt.scatter([item.x for item in set_b], [item.y for item in set_b], color=\"blue\", label=label_b)\n",
    "    \n",
    "    plt.axis('equal')\n",
    "    \n",
    "    plt.xlim([min(item.x for item in set_a + set_b) - 1, max(item.x for item in set_a + set_b) + 1])\n",
    "    plt.ylim([min(item.y for item in set_a + set_b) - 1, max(item.y for item in set_a + set_b) + 1])\n",
    "        \n",
    "    plt.title(title)\n",
    "    plt.xlabel(\"Componente Principal 1\")\n",
    "    plt.ylabel(\"Componente Principal 2\")\n",
    "    \n",
    "    plt.legend(loc=\"upper left\")\n",
    "        \n",
    "    plt.show()\n",
    "    \n",
    "# Plota os conjuntos e a envoltória convexa de cada conjunto no plano\n",
    "def plot_hulls(set_a, set_b, hull_a, hull_b, label_a = \"\", label_b = \"\", title = \"Envoltórias Convexas no plano\"):\n",
    "    plt.scatter([item.x for item in set_a], [item.y for item in set_a], color=\"green\", label=label_a)\n",
    "    plt.scatter([item.x for item in set_b], [item.y for item in set_b], color=\"blue\", label=label_b)\n",
    "    \n",
    "    hull_a.append(hull_a[0])\n",
    "    hull_b.append(hull_b[0])\n",
    "    \n",
    "    plt.plot([item.x for item in hull_a], [item.y for item in hull_a], \"-g\")\n",
    "    plt.plot([item.x for item in hull_b], [item.y for item in hull_b], \"-b\")\n",
    "    \n",
    "    plt.axis('equal')\n",
    "    \n",
    "    plt.xlim([min(item.x for item in hull_a + hull_b) - 1, max(item.x for item in hull_a + hull_b) + 1])\n",
    "    plt.ylim([min(item.y for item in hull_a + hull_b) - 1, max(item.y for item in hull_a + hull_b) + 1])\n",
    "    \n",
    "    plt.title(title)\n",
    "    plt.xlabel(\"Componente Principal 1\")\n",
    "    plt.ylabel(\"Componente Principal 2\")\n",
    "    \n",
    "    plt.legend(loc=\"upper left\")\n",
    "        \n",
    "    plt.show()\n",
    "    \n",
    "# Plota os conjuntos, a envoltória convexa de cada um e a reta do classificador\n",
    "def plot_classifier(set_a, set_b, hull_a, hull_b, b0, b1, is_vertical, vertical_coord,\n",
    "                    point_a, point_b, label_a = \"\", label_b = \"\", title = \"Envoltórias e reta classificadora no plano\"):\n",
    "    plt.scatter([item.x for item in set_a], [item.y for item in set_a], color=\"green\", label=label_a)\n",
    "    plt.scatter([item.x for item in set_b], [item.y for item in set_b], color=\"blue\", label=label_b)\n",
    "    \n",
    "    hull_a.append(hull_a[0])\n",
    "    hull_b.append(hull_b[0])\n",
    "    \n",
    "    plt.plot([item.x for item in hull_a], [item.y for item in hull_a], \"-g\")\n",
    "    plt.plot([item.x for item in hull_b], [item.y for item in hull_b], \"-b\")\n",
    "    \n",
    "    plt.plot([point_a.x, point_b.x], [point_a.y, point_b.y], \"ok\")\n",
    "    plt.plot([point_a.x, point_b.x], [point_a.y, point_b.y], \"-k\")\n",
    "    \n",
    "    midpoint = ((point_a.x + (point_b.x - point_a.x) / 2), (point_a.y + (point_b.y - point_a.y) / 2))\n",
    "    \n",
    "    plt.plot(midpoint[0], midpoint[1], \"ok\")\n",
    "    \n",
    "    if is_vertical:\n",
    "        plt.axvline(x = vertical_coord, color = 'r')\n",
    "    else:\n",
    "        line_x = np.linspace(min(item.x for item in hull_a + hull_b) - 5, max(item.x for item in hull_a + hull_b) + 5, 100)\n",
    "        line_y = b1 * line_x + b0\n",
    "        plt.plot(line_x, line_y, '-r')\n",
    "    \n",
    "    plt.axis('equal')\n",
    "    \n",
    "    plt.xlim([min(item.x for item in hull_a + hull_b) - 1, max(item.x for item in hull_a + hull_b) + 1])\n",
    "    plt.ylim([min(item.y for item in hull_a + hull_b) - 1, max(item.y for item in hull_a + hull_b) + 1])\n",
    "    \n",
    "    plt.title(title)\n",
    "    plt.xlabel(\"Componente Principal 1\")\n",
    "    plt.ylabel(\"Componente Principal 2\")\n",
    "    \n",
    "    plt.legend(loc=\"upper left\")\n",
    "        \n",
    "    plt.show()\n",
    "    \n",
    "# Plota os conjuntos, a envoltória convexa de cada um, a reta do classificador e o resultado para as classificações realizadas\n",
    "def plot_classified_data(set_a, set_b, hull_a, hull_b, b0, b1, is_vertical, vertical_coord,\n",
    "                         point_a, point_b, samples, label_a = \"\", label_b = \"\",\n",
    "                         title = \"Resultado após as classificações\"):\n",
    "    plt.scatter([item.x for item in set_a], [item.y for item in set_a], color=\"green\", label=label_a)\n",
    "    plt.scatter([item.x for item in set_b], [item.y for item in set_b], color=\"blue\", label=label_b)\n",
    "    \n",
    "    hull_a.append(hull_a[0])\n",
    "    hull_b.append(hull_b[0])\n",
    "    \n",
    "    plt.plot([item.x for item in hull_a], [item.y for item in hull_a], \"-g\")\n",
    "    plt.plot([item.x for item in hull_b], [item.y for item in hull_b], \"-b\")\n",
    "    \n",
    "    plt.plot([point_a.x, point_b.x], [point_a.y, point_b.y], \"ok\")\n",
    "    plt.plot([point_a.x, point_b.x], [point_a.y, point_b.y], \"-k\")\n",
    "    \n",
    "    midpoint = ((point_a.x + (point_b.x - point_a.x) / 2), (point_a.y + (point_b.y - point_a.y) / 2))\n",
    "    \n",
    "    plt.plot(midpoint[0], midpoint[1], \"ok\")\n",
    "    \n",
    "    if is_vertical:\n",
    "        plt.axvline(x = vertical_coord, color = 'r')\n",
    "    else:\n",
    "        line_x = np.linspace(min(item.x for item in hull_a + hull_b) - 5, max(item.x for item in hull_a + hull_b) + 5, 100)\n",
    "        line_y = b1 * line_x + b0\n",
    "        plt.plot(line_x, line_y, '-r')\n",
    "        \n",
    "    for sample in samples:\n",
    "        if sample[3] == label_a:\n",
    "            if sample[2] == sample[3]:\n",
    "                plt.plot([sample[0]], [sample[1]], \"Xy\")\n",
    "            else:\n",
    "                plt.plot([sample[0]], [sample[1]], \"Xc\")\n",
    "        else:\n",
    "            if sample[2] == sample[3]:\n",
    "                plt.plot([sample[0]], [sample[1]], \"Xc\")\n",
    "            else:\n",
    "                plt.plot([sample[0]], [sample[1]], \"Xy\")\n",
    "    \n",
    "    plt.axis('equal')\n",
    "    \n",
    "    plt.xlim([min(item.x for item in hull_a + hull_b) - 1, max(item.x for item in hull_a + hull_b) + 1])\n",
    "    plt.ylim([min(item.y for item in hull_a + hull_b) - 1, max(item.y for item in hull_a + hull_b) + 1])\n",
    "    \n",
    "    plt.title(title)\n",
    "    plt.xlabel(\"Componente Principal 1\")\n",
    "    plt.ylabel(\"Componente Principal 2\")\n",
    "    \n",
    "    plt.legend(loc=\"upper left\")\n",
    "        \n",
    "    plt.show()"
   ]
  },
  {
   "cell_type": "code",
   "execution_count": 4,
   "id": "598efceb-dc48-4cc6-8f49-f0aab05b2330",
   "metadata": {
    "id": "598efceb-dc48-4cc6-8f49-f0aab05b2330"
   },
   "outputs": [],
   "source": [
    "# Métodos auxiliares\n",
    "\n",
    "# Posição relativa do segmento pr em relação ao segmento pq\n",
    "def relative_position(p, q, r):\n",
    "    # Produto vetorial dos segmentos pq e pr\n",
    "    pos = ((r.x - q.x) * (q.y - p.y)) - ((r.y - q.y) * (q.x - p.x))\n",
    "    \n",
    "    if pos == 0:\n",
    "        return 0 # colinear\n",
    "    elif pos > 0:\n",
    "        return 1 # sentido horário\n",
    "    else:\n",
    "        return -1 # sentido antihorário\n",
    "\n",
    "## Envoltória Convexa\n",
    "\n",
    "# Encontra o ponto com a menor coordenada y, mais a esquerda possível\n",
    "def find_minor_point(points):\n",
    "    index = -1\n",
    "    min_y = sys.maxsize\n",
    "    \n",
    "    for idx, point in enumerate(points):\n",
    "        if point.y < min_y:\n",
    "            index = idx\n",
    "            min_y = point.y\n",
    "        elif point.y == min_y:\n",
    "            if point.x < points[index].x:\n",
    "                index = idx\n",
    "                \n",
    "    return (points[index], index)\n",
    "\n",
    "# Distância euclidiana entre dois pontos\n",
    "def euclidean_distance(p1, p2):\n",
    "    distance = sqrt(((p1.x - p2.x) ** 2) + ((p1.y - p2.y) ** 2))\n",
    "    \n",
    "    return distance\n",
    "    \n",
    "# Redefine a ordenação realizada pela função padrão do Python para ordenar a partir da coordenada polar com relação a p0\n",
    "def polar_sort(p0, p1, p2):\n",
    "    relative_pos = relative_position(p0, p1, p2)\n",
    "    \n",
    "    if relative_pos == 0:\n",
    "        if euclidean_distance(p0, p1) < euclidean_distance(p0, p2):\n",
    "            return -1\n",
    "        else:\n",
    "            return 1\n",
    "    else:\n",
    "        return relative_pos\n",
    "    \n",
    "# Remove os pontos que estã sob a mesma coordenada polar em relação a p0, mantendo aquele mais distante em relação a ele\n",
    "def remove_same_polar_angle(points):\n",
    "    n = len(points)\n",
    "    remove = []\n",
    "    \n",
    "    for i in range(1, n - 1):\n",
    "        if relative_position(points[0], points[i], points[i+1]) == 0:\n",
    "            size_seg_a = euclidean_distance(points[0], points[i])\n",
    "            size_seg_b = euclidean_distance(points[0], points[i+1])\n",
    "            \n",
    "            if size_seg_a < size_seg_b:\n",
    "                remove.append(points[i])\n",
    "            else:\n",
    "                remove.append(points[i+1])\n",
    "                \n",
    "    for coord in remove:\n",
    "        if coord in points:\n",
    "            points.remove(coord)\n",
    "        \n",
    "    return points\n",
    "    \n",
    "# Acessa o elemento anterior ao topo da pilha\n",
    "def next_to_top(hull):\n",
    "    return hull[-2]\n",
    "\n",
    "# Acessa o topo da pilha\n",
    "def top(hull):\n",
    "    return hull[-1]\n",
    "\n",
    "## Varredura linear\n",
    "\n",
    "# Verifica se um ponto está contido dentro de um segmento\n",
    "def on_segment(p, q, r):\n",
    "    if r.x >= min(p.x, q.x) and r.x <= max(p.x, q.x):\n",
    "        if r.y >= min(p.y, q.y) and r.y <= max(p.y, q.y):\n",
    "            return True\n",
    "    \n",
    "    return False\n",
    "\n",
    "# Verifica se dois segmentos se intersectam\n",
    "def segments_intersect(p1, p2, p3, p4):\n",
    "    d1 = relative_position(p3, p4, p1)\n",
    "    d2 = relative_position(p3, p4, p2)\n",
    "    d3 = relative_position(p1, p2, p3)\n",
    "    d4 = relative_position(p1, p2, p4)\n",
    "    \n",
    "    if ((d1 > 0 and d2 < 0) or (d1 < 0 and d2 > 0)) and ((d3 > 0 and d4 < 0) or (d3 < 0 and d4 > 0)):\n",
    "        return True\n",
    "    elif d1 == 0 and on_segment(p3, p4, p1):\n",
    "        return True\n",
    "    elif d2 == 0 and on_segment(p3, p4, p2):\n",
    "        return True\n",
    "    elif d3 == 0 and on_segment(p1, p2, p3):\n",
    "        return True\n",
    "    elif d4 == 0 and on_segment(p1, p2, p4):\n",
    "        return True\n",
    "    else:\n",
    "        return False\n",
    "    \n",
    "# Define os segmentos que constituem uma envoltória e retorna eles\n",
    "def list_segments(hull):\n",
    "    segments = []\n",
    "    \n",
    "    for idx in range(len(hull) - 1):\n",
    "        start = hull[idx]\n",
    "        end = hull[idx + 1]\n",
    "        \n",
    "        if start.x == end.x:\n",
    "            end.x = end.x + 0.000001\n",
    "\n",
    "        if end.x < start.x:\n",
    "            start, end = end, start\n",
    "        \n",
    "        segment = Segment(start, end)\n",
    "        \n",
    "        segments.append(segment)\n",
    "        \n",
    "    return segments\n",
    "\n",
    "# Sobrescreve a função de comparação da ordenação para comparar eventos a\n",
    "# partir dos critérios definidos (coordenadas x e y, ser ponto de início, etc)\n",
    "def compare(e1, e2):\n",
    "    if e1.x > e2.x:\n",
    "        return 1\n",
    "    else:\n",
    "        if e1.x == e2.x:\n",
    "            if e1.start == True and e2.start == False:\n",
    "                return -1\n",
    "            elif e1.start == False and e2.start == True:\n",
    "                return 1\n",
    "            else:\n",
    "                if e1.y > e2.y:\n",
    "                    return -1\n",
    "                else:\n",
    "                    return 1\n",
    "        else:\n",
    "            return -1\n",
    "    \n",
    "## Classificação\n",
    "\n",
    "# Calcula as métricas de precisão e revocação a partir dos dados obtidos da classificação\n",
    "def calculate_metrics(result, label_a, label_b):\n",
    "    true_positive = 0\n",
    "    false_positive = 0\n",
    "    true_negative = 0\n",
    "    false_negative = 0\n",
    "    \n",
    "    for res in result:\n",
    "        if res[3] == label_a:\n",
    "            if res[2] == res[3]:\n",
    "                true_positive += 1\n",
    "            else:\n",
    "                false_negative += 1\n",
    "        else:\n",
    "            if res[2] == res[3]:\n",
    "                true_negative += 1\n",
    "            else:\n",
    "                false_positive += 1\n",
    "            \n",
    "    precision = true_positive / (true_positive + false_positive)\n",
    "    recall = true_positive / (true_positive + false_negative)\n",
    "    \n",
    "    return precision, recall\n",
    "    \n",
    "# Calcula o F1-Score a partir da precisão e revocação previamente calculados\n",
    "def calculate_fscore(precision, recall):\n",
    "    return 2 * ((precision * recall) / (precision + recall))"
   ]
  },
  {
   "cell_type": "markdown",
   "id": "227c8be1-a974-43c7-9e4a-e43ce8cce59e",
   "metadata": {
    "id": "227c8be1-a974-43c7-9e4a-e43ce8cce59e"
   },
   "source": [
    "### __Métodos Principais__"
   ]
  },
  {
   "cell_type": "code",
   "execution_count": 14,
   "id": "b28c60af-6b83-4bf5-b514-833634521b00",
   "metadata": {
    "id": "b28c60af-6b83-4bf5-b514-833634521b00"
   },
   "outputs": [],
   "source": [
    "# Métodos principais\n",
    "\n",
    "# Calcula a envoltória convexa para o conjunto de pontos dados\n",
    "def graham_scan(points):\n",
    "    # Encontra p0 no conjunto de dados\n",
    "    p0, idx = find_minor_point(points)\n",
    "    \n",
    "    # Troca o p0 de lugar elemento de índice 0 do conjunto\n",
    "    aux = points[0]\n",
    "    points[0] = p0\n",
    "    points[idx] = aux    \n",
    "    \n",
    "    # Ordena os elementos restantes a partir da coordenada polar com relação ao elemento p0\n",
    "    sorted_points = points.copy()\n",
    "    sorted_points[1:] = sorted(points[1:], key=cmp_to_key(lambda p1, p2: polar_sort(p0, p1, p2)))\n",
    "    \n",
    "    # Remove os pontos que possuem o mesmo ângulo polar em relação a p0 (mantém o que está mais longe)\n",
    "    sorted_points = remove_same_polar_angle(sorted_points.copy())\n",
    "    \n",
    "    if(len(sorted_points) < 3):\n",
    "        print(\"É impossível montar uma envoltória convexa com o conjunto de pontos fornecido!\")\n",
    "        return\n",
    "    \n",
    "    hull = []\n",
    "    hull.append(sorted_points[0])\n",
    "    hull.append(sorted_points[1])\n",
    "    hull.append(sorted_points[2])\n",
    "    \n",
    "    for i in range(3, len(sorted_points)):\n",
    "        while ((len(hull) > 1) and (relative_position(next_to_top(hull), top(hull), sorted_points[i]) != -1)):\n",
    "            hull.pop()\n",
    "            \n",
    "        hull.append(sorted_points[i])\n",
    "    \n",
    "    return hull\n",
    "\n",
    "# Varredura linear para verificar se existe interseção entre as duas envoltórias\n",
    "def line_sweep_intersection(segments, events):\n",
    "    tree = RBTree()\n",
    "    \n",
    "    for event in events:\n",
    "        idx = event.index\n",
    "            \n",
    "        if event.start:\n",
    "            tree.insert((event.y, event.index), event)\n",
    "            \n",
    "            try: prev = tree.prev_key((event.y, event.index))\n",
    "            except KeyError: prev = None\n",
    "\n",
    "            try: succ = tree.succ_key((event.y, event.index))\n",
    "            except KeyError: succ = None\n",
    "            \n",
    "            if prev != None:\n",
    "                seg = tree.get_value(prev)\n",
    "                same_label = (segments[idx].start.label == segments[seg.index].start.label)\n",
    "                \n",
    "                if same_label == False:\n",
    "                    if segments_intersect(segments[idx].start, segments[idx].end, segments[seg.index].start, segments[seg.index].end):\n",
    "                        return True\n",
    "                \n",
    "            if succ != None:\n",
    "                seg = tree.get_value(succ)\n",
    "                same_label = (segments[idx].start.label == segments[seg.index].start.label)\n",
    "                \n",
    "                if same_label == False:\n",
    "                    if segments_intersect(segments[idx].start, segments[idx].end, segments[seg.index].start, segments[seg.index].end):\n",
    "                        return True\n",
    "        else:\n",
    "            try: prev = tree.prev_key((event.y, event.index))\n",
    "            except KeyError: prev = None\n",
    "\n",
    "            try: succ = tree.succ_key((event.y, event.index))\n",
    "            except KeyError: succ = None\n",
    "\n",
    "            if prev != None and succ != None:\n",
    "                seg_prev = tree.get_value(prev)\n",
    "                seg_succ = tree.get_value(succ)\n",
    "                \n",
    "                same_label = segments[prev.index].start.label == segments[succ.index].start.label\n",
    "                \n",
    "                if same_label == False:\n",
    "                    if segments_intersect(segments[seg_prev.index].start, segments[seg_prev.index].end,\n",
    "                                          segments[seg_succ.index].start, segments[seg_succ.index].end):\n",
    "                        return True\n",
    "                    \n",
    "            tree.remove((segments[idx].start.y, idx))\n",
    "            \n",
    "    return False\n",
    "\n",
    "# Algoritmo para verificar se dois conjuntos de pontos são linearmente separável\n",
    "def hulls_are_linearly_separable(hull_a, hull_b):\n",
    "    segments_a = list_segments(hull_a)\n",
    "    segments_b = list_segments(hull_b)\n",
    "    segments = segments_a + segments_b\n",
    "    \n",
    "    events = []\n",
    "    \n",
    "    for idx, segment in enumerate(segments):\n",
    "        events.append(Event(segment.start.x, segment.start.y, True, segment.start.label, idx))\n",
    "        events.append(Event(segment.end.x, segment.end.y, False, segment.end.label, idx))\n",
    "        \n",
    "    events = sorted(events, key=cmp_to_key(lambda e1, e2: compare(e1, e2)))\n",
    "    \n",
    "    has_intersection = line_sweep_intersection(segments, events)\n",
    "    \n",
    "    if has_intersection:\n",
    "        return False\n",
    "    else:\n",
    "        return True\n",
    "\n",
    "# Algoritmo para a construção do classificador\n",
    "def make_classifier(hull_a, hull_b, label_a, label_b):\n",
    "    min_distance = sys.maxsize\n",
    "    points = (None, None)\n",
    "    \n",
    "    # Seleciona os dois pontos, um de cada conjunto, que possuem a menor distância euclidiana entre si\n",
    "    for point_a in hull_a:\n",
    "        for point_b in hull_b:\n",
    "            distance = euclidean_distance(point_a, point_b)\n",
    "\n",
    "            if distance < min_distance:\n",
    "                min_distance = distance\n",
    "                points = (point_a, point_b)\n",
    "                \n",
    "    # Recupera os pontos mais próximos em cada conjunto\n",
    "    point_a, point_b = points\n",
    "    \n",
    "    is_vertical = False\n",
    "    vertical_coord = None\n",
    "    \n",
    "    b0 = None\n",
    "    b1 = None\n",
    "    \n",
    "    if point_b.x - point_a.x == 0:\n",
    "        b1 = 0\n",
    "        b0 = ((point_b.y - point_a.y) / 2) + point_a.y\n",
    "    elif point_b.y - point_a.y == 0: # caso onde o classificador é paralelo ao eixo X\n",
    "        is_vertical = True\n",
    "        vertical_coord = ((point_b.x - point_a.x) / 2) + point_a.x\n",
    "    else:\n",
    "        # Calcula o coeficiente angular da reta\n",
    "        m = (point_b.y - point_a.y) / (point_b.x - point_a.x)\n",
    "        b1 = -1 / m\n",
    "        \n",
    "        # Calcula o coeficiente linear da reta\n",
    "        b0 = ((point_b.y - point_a.y) / 2) + point_a.y - b1 * (((point_b.x - point_a.x) / 2) + point_a.x)\n",
    "        \n",
    "    # Caso a reta seja vertical\n",
    "    if is_vertical:\n",
    "        if point_a.x == vertical_coord or point_b.x == vertical_coord:\n",
    "            print(\"Os pontos mais próximos de cada conjunto estão em cima da reta do classificador!\")\n",
    "            return\n",
    "        \n",
    "        # up_label é o lado direito e down_label é o lado esquerdo\n",
    "        if point_a.x < vertical_coord:\n",
    "            up_label = point_b.label\n",
    "            down_label = point_a.label\n",
    "        else:\n",
    "            up_label = point_a.label\n",
    "            down_label = point_b.label\n",
    "    else:\n",
    "        y_a_hat = b1 * point_a.x + b0\n",
    "        y_b_hat = b1 * point_b.x + b0\n",
    "\n",
    "        if point_a.y == y_a_hat or point_b.y == y_b_hat:\n",
    "            print(\"Os pontos mais próximos de cada conjunto estão em cima da reta do classificador!\")\n",
    "            return\n",
    "\n",
    "        if point_a.y < y_a_hat:\n",
    "            up_label = point_b.label\n",
    "            down_label = point_a.label\n",
    "        else:\n",
    "            up_label = point_a.label\n",
    "            down_label = point_b.label\n",
    "            \n",
    "    # Retorna o coeficiente linear, o coeficiente angular, se a reta é vertical e a coordenada caso seja, \n",
    "    # qual a classificação das amostras acima da reta e abaixo\n",
    "    return b0, b1, is_vertical, vertical_coord, point_a, point_b, up_label, down_label\n",
    "\n",
    "# Utiliza os coeficientes da reta para classificar uma amostra\n",
    "def classify_sample(b0, b1, is_vertical, vertical_coord, up_label, down_label, sample):\n",
    "    if is_vertical:\n",
    "        if sample.x == vertical_coord:\n",
    "            return False\n",
    "        elif sample.x > vertical_coord:\n",
    "            return up_label\n",
    "        else:\n",
    "            return down_label\n",
    "    else:\n",
    "        y_hat = b1 * sample.x + b0\n",
    "\n",
    "        if sample.y == y_hat:\n",
    "            return False\n",
    "        elif sample.y < y_hat:\n",
    "            return down_label\n",
    "        else:\n",
    "            return up_label"
   ]
  },
  {
   "cell_type": "markdown",
   "id": "cbe79ca6-6452-4c78-9c7e-0cb492ea25ab",
   "metadata": {
    "id": "cbe79ca6-6452-4c78-9c7e-0cb492ea25ab"
   },
   "source": [
    "### __Exemplos básicos do processo de classificação__\n",
    "\n",
    "Aqui estão descritos alguns exemplos simples, com dados sintéticos, de como é o funcionamento do classificador para alguns cenários diferentes de dados e de configurações das envoltórias. O primeiro exemplo é mais simples, onde os dados são linearmente separáveis e o conjunto sintético é pequeno. Já o segundo exemplo, por mais que os conjuntos sejam muito semelhantes ao do primeiro exemplo, alguns pontos foram deslocados para que os conjuntos não sejam mais linearmente separáveis. Dessa forma, é possível ver o funcionamento do método que realiza a verificação da separabilidade linear.\n",
    "\n",
    "#### __Conjuntos sintéticos linearmente separáveis__\n",
    "\n",
    "Para esse conjunto de dados, como pode ser observado, não há interseção entre segmentos dos conjuntos. Dessa forma, poderá ser observado como todo o processo de classificação acontece e, ao final, um exemplo de classificação. Esse processo será extendido e ampliado durante a experimentação, para que dados mais complexos sejam usados e métricas que atestem a qualidade do classificador/classificação sejam calculadas."
   ]
  },
  {
   "cell_type": "code",
   "execution_count": 15,
   "id": "94434dda-9b03-4cd3-bae3-0ce035f0b7d3",
   "metadata": {
    "colab": {
     "base_uri": "https://localhost:8080/",
     "height": 410
    },
    "id": "94434dda-9b03-4cd3-bae3-0ce035f0b7d3",
    "outputId": "b5670fa7-2939-4ef7-cd72-29401073a23a"
   },
   "outputs": [
    {
     "data": {
      "image/png": "[encoded data removed]",
      "text/plain": [
       "<Figure size 1200x600 with 1 Axes>"
      ]
     },
     "metadata": {},
     "output_type": "display_data"
    }
   ],
   "source": [
    "# Conjuntos sintéticos\n",
    "\n",
    "label_a = \"a\"\n",
    "label_b = \"b\"\n",
    "\n",
    "set_a = [Sample(0, 2, label_a), Sample(0, 0, label_a), Sample(-0.25, 0.9, label_a), Sample(-1, 2.4, label_a), Sample(1, 0.5, label_a), Sample(-1, 1, label_a)]\n",
    "set_b = [Sample(1.8, 1.2, label_b), Sample(3, 4, label_b), Sample(5, 1, label_b), Sample(3, 3, label_b)]\n",
    "\n",
    "plot_sets(set_a, set_b, label_a, label_b)"
   ]
  },
  {
   "cell_type": "code",
   "execution_count": 16,
   "id": "78118bc4",
   "metadata": {
    "colab": {
     "base_uri": "https://localhost:8080/",
     "height": 410
    },
    "id": "78118bc4",
    "outputId": "ef01fcf0-6858-4c8e-8b94-0a4e0a5881e1"
   },
   "outputs": [
    {
     "data": {
      "image/png": "[encoded data removed]",
      "text/plain": [
       "<Figure size 1200x600 with 1 Axes>"
      ]
     },
     "metadata": {},
     "output_type": "display_data"
    }
   ],
   "source": [
    "# Envoltórias Convexas\n",
    "\n",
    "hull_a = graham_scan(set_a)\n",
    "hull_b = graham_scan(set_b)\n",
    "\n",
    "plot_hulls(set_a, set_b, hull_a, hull_b, label_a, label_b)"
   ]
  },
  {
   "cell_type": "code",
   "execution_count": 17,
   "id": "5b954755-9540-4868-9d63-fbd4eae57502",
   "metadata": {
    "id": "5b954755-9540-4868-9d63-fbd4eae57502"
   },
   "outputs": [
    {
     "name": "stdout",
     "output_type": "stream",
     "text": [
      "As envoltórias são linearmente separáveis!\n"
     ]
    }
   ],
   "source": [
    "# Verificar se as duas envoltórias são linearmente separáveis\n",
    "linearly_separable = hulls_are_linearly_separable(hull_a, hull_b)\n",
    "\n",
    "if linearly_separable:\n",
    "    print(\"As envoltórias são linearmente separáveis!\")\n",
    "else:\n",
    "    print(\"As envoltórias não são linearmente separáveis :(\")"
   ]
  },
  {
   "cell_type": "code",
   "execution_count": 18,
   "id": "459af862-ba06-4112-80c4-8bdd77223f96",
   "metadata": {
    "colab": {
     "base_uri": "https://localhost:8080/",
     "height": 410
    },
    "id": "459af862-ba06-4112-80c4-8bdd77223f96",
    "outputId": "6eadb0f1-86c3-4300-a73b-a3f1eead46f2"
   },
   "outputs": [
    {
     "data": {
      "image/png": "[encoded data removed]",
      "text/plain": [
       "<Figure size 1200x600 with 1 Axes>"
      ]
     },
     "metadata": {},
     "output_type": "display_data"
    }
   ],
   "source": [
    "# Classificador\n",
    "b0, b1, is_vertical, vertical_coord, point_a, point_b, up_label, down_label = make_classifier(hull_a, hull_b, label_a, label_b)\n",
    "\n",
    "plot_classifier(set_a, set_b, hull_a, hull_b, b0, b1, is_vertical, vertical_coord, point_a, point_b, label_a, label_b)"
   ]
  },
  {
   "cell_type": "code",
   "execution_count": 19,
   "id": "739754d4-901c-4143-b64e-8c39d8e88a62",
   "metadata": {
    "colab": {
     "base_uri": "https://localhost:8080/"
    },
    "id": "739754d4-901c-4143-b64e-8c39d8e88a62",
    "outputId": "fa0d0779-c28b-4a2c-9c37-2f09591d5c97"
   },
   "outputs": [
    {
     "name": "stdout",
     "output_type": "stream",
     "text": [
      "Coordenadas da amostra: (-2, 3)\n",
      "A amostra foi classificada corretamente! (Classificação: a - Ground Truth: a)\n"
     ]
    }
   ],
   "source": [
    "# Exemplo de classificação de uma amostra\n",
    "\n",
    "sample = Sample(-2, 3, label_a)\n",
    "\n",
    "print(f\"Coordenadas da amostra: ({sample.x}, {sample.y})\")\n",
    "\n",
    "classification = classify_sample(b0, b1, is_vertical, vertical_coord, up_label, down_label, sample)\n",
    "\n",
    "if classification == False:\n",
    "    print(\"Amostra está sob a reta de classificação.\")\n",
    "else:\n",
    "    if classification == sample.label:\n",
    "        print(f\"A amostra foi classificada corretamente! (Classificação: {classification} - Ground Truth: {sample.label})\")\n",
    "    else:\n",
    "        print(f\"A amostra não foi classificada corretamente. (Classificação: {classification} - Ground Truth: {sample.label})\")"
   ]
  },
  {
   "cell_type": "markdown",
   "id": "ed592561-5094-45aa-82f0-e7bd64931b60",
   "metadata": {
    "id": "ed592561-5094-45aa-82f0-e7bd64931b60"
   },
   "source": [
    "#### __Conjuntos sintéticos não linearmente separáveis__\n",
    "\n",
    "Para esse conjunto de dados, como pode ser observado, há interseção entre segmentos dos conjuntos. Será possível, então, atestar se a função responsável por realizar essa verificação é capaz de perceber as interseções."
   ]
  },
  {
   "cell_type": "code",
   "execution_count": 20,
   "id": "34063109-f415-4ed3-a58a-ed981c785e49",
   "metadata": {
    "colab": {
     "base_uri": "https://localhost:8080/",
     "height": 410
    },
    "id": "34063109-f415-4ed3-a58a-ed981c785e49",
    "outputId": "61fd6afc-e027-4ff2-b1ab-07764b16dff2"
   },
   "outputs": [
    {
     "data": {
      "image/png": "[encoded data removed]",
      "text/plain": [
       "<Figure size 1200x600 with 1 Axes>"
      ]
     },
     "metadata": {},
     "output_type": "display_data"
    }
   ],
   "source": [
    "# Conjuntos sintéticos\n",
    "\n",
    "label_a = \"a\"\n",
    "label_b = \"b\"\n",
    "\n",
    "set_a = [Sample(0, 2, label_a), Sample(0, 0, label_a), Sample(-0.25, 0.9, label_a), Sample(-1, 2.4, label_a), Sample(1, 0.5, label_a), Sample(-1, 1, label_a), Sample(1.9, 1.8, label_a)]\n",
    "set_b = [Sample(0.2, 1, label_b), Sample(3, 4, label_b), Sample(5, 1, label_b), Sample(3, 3, label_b)]\n",
    "\n",
    "plot_sets(set_a, set_b, label_a, label_b)"
   ]
  },
  {
   "cell_type": "code",
   "execution_count": 21,
   "id": "27c0649d-e7e8-41cf-8116-79661446bde7",
   "metadata": {
    "colab": {
     "base_uri": "https://localhost:8080/",
     "height": 549
    },
    "id": "27c0649d-e7e8-41cf-8116-79661446bde7",
    "outputId": "21512166-cd35-4c24-d1a3-b28121c4a670"
   },
   "outputs": [
    {
     "data": {
      "image/png": "[encoded data removed]",
      "text/plain": [
       "<Figure size 1200x600 with 1 Axes>"
      ]
     },
     "metadata": {},
     "output_type": "display_data"
    }
   ],
   "source": [
    "# Envoltórias Convexas\n",
    "\n",
    "hull_a = graham_scan(set_a)\n",
    "hull_b = graham_scan(set_b)\n",
    "\n",
    "plot_hulls(set_a, set_b, hull_a, hull_b, label_a, label_b)"
   ]
  },
  {
   "cell_type": "code",
   "execution_count": 22,
   "id": "be37c623-8ba7-4c5e-a1df-fd2f736fb30e",
   "metadata": {},
   "outputs": [
    {
     "name": "stdout",
     "output_type": "stream",
     "text": [
      "As envoltórias não são linearmente separáveis :(\n"
     ]
    }
   ],
   "source": [
    "# Verificar se as duas envoltórias são linearmente separáveis\n",
    "linearly_separable = hulls_are_linearly_separable(hull_a, hull_b)\n",
    "\n",
    "if linearly_separable:\n",
    "    print(\"As envoltórias são linearmente separáveis!\")\n",
    "else:\n",
    "    print(\"As envoltórias não são linearmente separáveis :(\")"
   ]
  },
  {
   "cell_type": "markdown",
   "id": "7508ebec-8696-4c27-acaf-750bf520a57f",
   "metadata": {
    "id": "7508ebec-8696-4c27-acaf-750bf520a57f"
   },
   "source": [
    "## __Experimentação__\n",
    "\n",
    "Para a experimentação do algoritmo de classificação proposto, foram usados datasets da base de dados KEEL. Os datasets escolhidos são: __wine__, __monk-2__, __page-blocks__, __magic__, __iris__, __haberman__, __hayes-roth__, __banana__, __letter__ e __titanic__. Inicialmente, eles são fornecidos no formato _.dat_. Portanto, para facilitar a manipulação e classificação utilizando a biblioteca _Pandas_, uma etapa prévia do trabalho foi a conversão de todos os datasets escolhidos para _.csv_, que é um formato mais comum e fácil de trabalhar.\n",
    "\n",
    "O método geral para classificar amostras em todos esses datasets foi, primeiramente, utilizar a técnica PCA (em português Análise de Componentes Principais) para reduzir a dimensionalidade de cada um dos datasets, de modo que seja possível extrair as duas componentes principais (que melhor descrevem a disposição dos dados) de cada um deles, e com isso, seja possível plotar cada _sample_ como um ponto no plano, o que permite a aplicação dos algoritmos de geometria computacional implementados. Para o PCA, todos os atributos numéricos do dataset serão considerados. De maneira geral, para todos os datasets, após realizar o PCA vamos escolher duas classes dele, separar o subconjunto de amostras do dataset que são essas classes e vamos separá-lo em dois conjuntos, um com 70% das amostras, que será nosso conjunto de teste, e o outro com o restante dos dados que será o conjunto de amostras para as quais iremos testar o classificador \"treinado\" com as 70% de amostras de treinamento.\n",
    "\n",
    "Para validar a classificação, três métricas principais serão computadas: __Precisão__, __Revocação__ e __F1-Score__. Após o término do processo de classificação, essas métricas serão calculadas e exibidas junto com um plot com as amostras classificadas e sua posição em relação a reta classificadora. Essas métricas e plots estarão dispostas na própria célula que realiza a classificação doi dataset.\n",
    "\n",
    "Nas células a seguir, os dados dos datasets possíveis serão classificados e as métricas obtidas pós classificação serão exibidas."
   ]
  },
  {
   "cell_type": "code",
   "execution_count": null,
   "id": "f226a4f7-9c7e-46c3-8cbe-57ec2fac99bc",
   "metadata": {
    "id": "f226a4f7-9c7e-46c3-8cbe-57ec2fac99bc"
   },
   "outputs": [],
   "source": [
    "# URL e importação dos datasets\n",
    "\n",
    "WINE = \"../data/csv/wine.csv\"\n",
    "MONK_2 = \"../data/csv/monk-2.csv\"\n",
    "PAGE_BLOCKS = \"../data/csv/page-blocks.csv\"\n",
    "MAGIC = \"../data/csv/magic.csv\"\n",
    "IRIS = \"../data/csv/iris.csv\"\n",
    "HBAERMAN = \"../data/csv/haberman.csv\"\n",
    "HAYES_ROTH = \"../data/csv/hayes-roth.csv\"\n",
    "BANANA = \"../data/csv/banana.csv\"\n",
    "LETTER = \"../data/csv/letter.csv\"\n",
    "TITANIC = \"../data/csv/titanic.csv\"\n",
    "\n",
    "wine_df = pd.read_csv(WINE, sep=',')\n",
    "monk_2_df = pd.read_csv(MONK_2, sep=',') #\n",
    "page_blocks_df = pd.read_csv(PAGE_BLOCKS, sep=',') #\n",
    "magic_df = pd.read_csv(MAGIC, sep=',')\n",
    "iris_df = pd.read_csv(IRIS, sep=',')\n",
    "haberman_df = pd.read_csv(HBAERMAN, sep=',') #\n",
    "hayes_roth_df = pd.read_csv(HAYES_ROTH, sep=',') #\n",
    "banana_df = pd.read_csv(BANANA, sep=',')\n",
    "letter_df = pd.read_csv(LETTER, sep=',')\n",
    "titanic_df = pd.read_csv(TITANIC, sep=',')"
   ]
  },
  {
   "cell_type": "code",
   "execution_count": null,
   "id": "e652997f-ad53-476f-9801-ae90360851b8",
   "metadata": {
    "id": "e652997f-ad53-476f-9801-ae90360851b8"
   },
   "outputs": [],
   "source": [
    "# Definição do PCA e do número de componentes desejadas\n",
    "pca = PCA(n_components=2)\n",
    "\n",
    "# Definindo a seed para poder embaralhar os dados dos datasets\n",
    "random.seed(10)\n",
    "\n",
    "def preprocess(features, classes, df):\n",
    "    # Filtrando o o dataframe a partir das classes\n",
    "    filtered_df = df[(df['Class'] == classes[0]) | (df['Class'] == classes[1])]\n",
    "\n",
    "    # Extraindo as labels e samples\n",
    "    samples = filtered_df.loc[:, features].values\n",
    "    labels = filtered_df.loc[:,['Class']].values\n",
    "    \n",
    "    # Normalizando os valores das samples\n",
    "    samples = StandardScaler().fit_transform(samples)\n",
    "\n",
    "    # PCA do dataset\n",
    "    df_pca = pca.fit_transform(samples)\n",
    "\n",
    "    data = []\n",
    "\n",
    "    # Agrupando os dados do PCA com as labels\n",
    "    for i, item in enumerate(df_pca):\n",
    "        data.append([item[0], item[1], labels[i][0]])\n",
    "\n",
    "    # Embaralhando o array para extrair os conjuntos de teste e treinamento\n",
    "    random.shuffle(data)\n",
    "\n",
    "    slicing = floor(0.7 * len(data))\n",
    "\n",
    "    training = data[:slicing]\n",
    "    test = data[slicing:]\n",
    "    \n",
    "    return training, test\n",
    "\n",
    "def construct_and_classify(features, classes, df):\n",
    "    training, test = preprocess(features, classes, df)\n",
    "    \n",
    "    set_a = []\n",
    "    set_b = []\n",
    "\n",
    "    # Montando os dois conjuntos encapsulados pela classe Sample\n",
    "    for i, item in enumerate(training):\n",
    "        if item[2] == classes[0]:\n",
    "            set_a.append(Sample(item[0], item[1], item[2]))\n",
    "        else:\n",
    "            set_b.append(Sample(item[0], item[1], item[2]))\n",
    "\n",
    "    plot_sets(set_a, set_b, classes[0], classes[1])\n",
    "\n",
    "    hull_a = graham_scan(set_a)\n",
    "    hull_b = graham_scan(set_b)\n",
    "\n",
    "    plot_hulls(set_a, set_b, hull_a, hull_b, classes[0], classes[1])\n",
    "\n",
    "    if hulls_are_linearly_separable(hull_a, hull_b) == False:\n",
    "        print(\"Os dois conjuntos não são linearmente separáveis. Por isso, é impossível classificá-los com o método proposto :(\")\n",
    "    else:\n",
    "        b0, b1, is_vertical, vertical_coord, point_a, point_b, up_label, down_label = make_classifier(hull_a, hull_b, classes[0], classes[1])\n",
    "        \n",
    "        plot_classifier(set_a, set_b, hull_a, hull_b, b0, b1, is_vertical, vertical_coord, point_a, point_b, classes[0], classes[1])\n",
    "        \n",
    "        result = []\n",
    "        \n",
    "        for item in test:\n",
    "            sample = Sample(item[0], item[1], item[2])\n",
    "            classification = classify_sample(b0, b1, is_vertical, vertical_coord, up_label, down_label, sample)\n",
    "            \n",
    "            result.append([item[0], item[1], item[2], classification])\n",
    "            \n",
    "        print(\"Após a classificação, o resultado obtido foi o seguinte\")\n",
    "        print(\"(pontos que estão do outro lado da reta com cor diferente são pontos que foram classificados incorretamente):\")\n",
    "        plot_classified_data(set_a, set_b, hull_a, hull_b, b0, b1, is_vertical, vertical_coord, point_a, point_b, result, classes[0], classes[1])\n",
    "        \n",
    "        precision, recall = calculate_metrics(result, classes[0], classes[1])\n",
    "        f1score = calculate_fscore(precision, recall)\n",
    "        \n",
    "        print(\"As métricas obtidas para essas classificações foram:\")\n",
    "        print(f\"Precisão: {precision:.2%}\")\n",
    "        print(f\"Revocação: {recall:.2%}\")\n",
    "        print(f\"F1-Score: {f1score:.2%}\")"
   ]
  },
  {
   "cell_type": "markdown",
   "id": "954edba3-8c07-4482-9164-6029fce420f8",
   "metadata": {},
   "source": [
    "## __Wine__\n",
    "\n",
    "Para o dataset __Wine__ todos os atributos eram numéricos, então todos puderam ser usados para compor o PCA. Além disso, haviam 3 classes possíveis no dataset, analisando as combinações delas, as classes __1__ e __3__ eram linearmente separáveis. Portanto, essas foram as classes escolhidas para a classificação. Apesar de que, ao fazer isso, estamos enviesando o dataset/a classificação, para fins didáticos, é mais interessante escolher propositalmente classes linearmente separáveis, para que a classificação ocorra de fato e resultados possam ser obtidos."
   ]
  },
  {
   "cell_type": "code",
   "execution_count": null,
   "id": "900ba5bb-c6ef-4326-b1f1-bab194d87cfa",
   "metadata": {},
   "outputs": [],
   "source": [
    "# Listando as features e as classes\n",
    "features = ['Alcohol', 'MalicAcid', 'Ash', 'AlcalinityOfAsh', 'Magnesium',\n",
    "            'TotalPhenols', 'Flavanoids', 'NonflavanoidsPhenols', 'Proanthocyanins',\n",
    "            'ColorIntensity', 'Hue', 'OD280/OD315', 'Proline']\n",
    "classes = [1, 3]\n",
    "\n",
    "construct_and_classify(features, classes, wine_df)"
   ]
  },
  {
   "cell_type": "markdown",
   "id": "b12077c0-b953-4201-ad9e-0d887c34d69c",
   "metadata": {},
   "source": [
    "## __Monk-2__\n",
    "\n",
    "Para o PCA foi possível passar todos os atributos do dataset (todos numéricos). Além disso, como só existem duas classificações possíveis para o dataset, não haviam escolhas para tentar variar e obter dois conjuntos linearmente separáveis (para fins didáticos, testar o algoritmo, etc).\n",
    "\n",
    "Ademais, assim como para o dataset __Titanic__ (que ainda vai ser analisado nas células posteriores), esse dataset não se comporta muito bem com apenas duas componentes principais do PCA. A intuição que temos é que seriam necessárias mais dimensões para conseguir separar melhor os dados. Com os resultados que obtivemos, não foi possível fazer nenhuma classificação, apenas conseguimos gráficos um tanto quanto diferentes (PCA mostra que as classes são completamente sobrepostas para duas dimensões)."
   ]
  },
  {
   "cell_type": "code",
   "execution_count": null,
   "id": "f0d8fd97-a119-4136-a0ec-36057909c91f",
   "metadata": {},
   "outputs": [],
   "source": [
    "# Listando as features e as classes\n",
    "features = ['A1', 'A2', 'A3', 'A4', 'A5', 'A6']\n",
    "classes = [0, 1]\n",
    "\n",
    "construct_and_classify(features, classes, monk_2_df)"
   ]
  },
  {
   "cell_type": "markdown",
   "id": "0735c888-c64f-4af7-be4a-af1804982db3",
   "metadata": {},
   "source": [
    "## __Page Blocks__\n",
    "\n",
    "Para esse dataset, todos os atributos puderam ser utilizados para compor o PCA. No entanto, apesar de possuir várias classes possívels, nenhuma combinação dois-a-dois resultou em dois conjuntos linearmente separáveis. Portanto, não foi possível classificar amostras para ele, apenas visualizar os plots dos conjuntos no plano, juntamente com as envoltórias convexas."
   ]
  },
  {
   "cell_type": "code",
   "execution_count": null,
   "id": "77a38b7e-de3d-4bbd-8c48-0d5688afc721",
   "metadata": {},
   "outputs": [],
   "source": [
    "# Listando as features e as classes\n",
    "features = ['Height', 'Lenght', 'Area', 'Eccen', 'P_black', 'P_and', 'Mean_tr', 'Blackpix', 'Blackand', 'Wb_trans']\n",
    "classes = [1, 2]\n",
    "\n",
    "construct_and_classify(features, classes, page_blocks_df)"
   ]
  },
  {
   "cell_type": "markdown",
   "id": "4c93fd72-333c-4ded-8f42-f0ba00012618",
   "metadata": {},
   "source": [
    "## __Magic__\n",
    "\n",
    "Assim como para os últimos datasets, as componentes principais obtidas com o PCA mostraram que duas dimensões apenas não é o suficiente para separar linearmente ambas as classes. Como existiam apenas duas classes para esse dataset, também não havia muitas modificações possíveis para tentar separar as classes de alguma forma: para duas componentes, pelo menos, as classes são sobrepostas e não há o que possa ser feito."
   ]
  },
  {
   "cell_type": "code",
   "execution_count": null,
   "id": "c644f9be-5ee0-435c-bfbd-b8d7db6dbd2b",
   "metadata": {},
   "outputs": [],
   "source": [
    "# Listando as features e as classes\n",
    "features = ['FLength', 'FWidth', 'FSize', 'FConc', 'FConc1', 'FAsym', 'FM3Long', 'FM3Trans', 'FAlpha', 'FDist']\n",
    "classes = ['g', 'h']\n",
    "\n",
    "construct_and_classify(features, classes, magic_df)"
   ]
  },
  {
   "cell_type": "markdown",
   "id": "5bc83c4d-77e1-40f6-9ea0-35f3d9c702c7",
   "metadata": {
    "id": "5bc83c4d-77e1-40f6-9ea0-35f3d9c702c7",
    "tags": []
   },
   "source": [
    "## __Iris__\n",
    "\n",
    "Para o dataset __Iris__, escolhemos de maneira arbitrária duas classes presentes nesse dataset: _Iris-setosa_ e _Iris-virginica_. O principal motivo da escolha foi para que pudéssemos selecionar propositalmente duas classes linearmente separáveis. Como a maioria dos datasets não é linearmente separável, para fins didáticos e para que o processor pudesse ser avaliado na prática, consideramos um par de classes que favorecesse a separabilidade linear. Portanto, para essa classificação, há algum viés nas amostras e, consequentemente, nos resultados."
   ]
  },
  {
   "cell_type": "code",
   "execution_count": null,
   "id": "6f430cc3-8c1d-4aac-8b91-dbe8cc3c3c55",
   "metadata": {
    "id": "6f430cc3-8c1d-4aac-8b91-dbe8cc3c3c55"
   },
   "outputs": [],
   "source": [
    "# Listando as features e as classes\n",
    "features = ['SepalLength', 'SepalWidth', 'PetalLength', 'PetalWidth']\n",
    "classes = ['Iris-setosa', 'Iris-virginica']\n",
    "\n",
    "construct_and_classify(features, classes, iris_df)"
   ]
  },
  {
   "cell_type": "markdown",
   "id": "75b20ec3-4ba8-499e-98b2-2f26fc5b033b",
   "metadata": {},
   "source": [
    "## __Haberman__\n",
    "\n",
    "Nesse dataset, as duas classes consistem em uma nuvem de pontos praticamente sobreposta, portanto não foi possível realizar a classificação das amostras de teste para o dataset."
   ]
  },
  {
   "cell_type": "code",
   "execution_count": null,
   "id": "517198dc-8b98-451f-bd1d-a7c84b98b11c",
   "metadata": {},
   "outputs": [],
   "source": [
    "# Listando as features e as classes\n",
    "features = ['Age', 'Year', 'Positive']\n",
    "classes = ['positive', 'negative']\n",
    "\n",
    "construct_and_classify(features, classes, haberman_df)"
   ]
  },
  {
   "cell_type": "markdown",
   "id": "5071cc1e-e7de-4784-ae58-f79692a2e9fb",
   "metadata": {},
   "source": [
    "## __Hayes Roth__\n",
    "\n",
    "Para esse dataset, também não existiam muitas escolhas além de visualizar as nuvens de pontos possíveis para cada uma das classes. Apesar de haverem mais de 2 classes, nenhuma dupla de combinações possíveis consistiam em conjuntos linearmente separáveis, o algoritmo apenas retorna que os conjuntos possuem interseção e não é possível classificar amostras nele."
   ]
  },
  {
   "cell_type": "code",
   "execution_count": null,
   "id": "9e290308-da00-4642-9bde-ad838dee2bbd",
   "metadata": {},
   "outputs": [],
   "source": [
    "# Listando as features e as classes\n",
    "features = ['Hobby', 'Age', 'EducationalLevel', 'MaritalStatus']\n",
    "classes = [1, 3]\n",
    "\n",
    "construct_and_classify(features, classes, hayes_roth_df)"
   ]
  },
  {
   "cell_type": "markdown",
   "id": "b3e8a201-39b5-4774-b3b6-c6c4e9cd2a8e",
   "metadata": {},
   "source": [
    "## __Banana__\n",
    "\n",
    "Esse dataset é mais simples, possui apenas dois atributos e duas classes. Por isso, não existe muita variação ou técnica para tentar contornar a interseção entre as classes, de modo a tentar verificar o algoritmo de classificação funcionando para o dataset. Apenas podemos observar que as classes são praticamente sobrepostas uma sobre a outra."
   ]
  },
  {
   "cell_type": "code",
   "execution_count": null,
   "id": "337d1985-c02c-476b-8d67-ad3a13627f71",
   "metadata": {},
   "outputs": [],
   "source": [
    "# Listando as features e as classes\n",
    "features = ['At1', 'At2']\n",
    "classes = [1, -1]\n",
    "\n",
    "construct_and_classify(features, classes, banana_df)"
   ]
  },
  {
   "cell_type": "markdown",
   "id": "176fd70a-7d60-488e-94bc-169488d6ab16",
   "metadata": {},
   "source": [
    "## __Letter__\n",
    "\n",
    "Para esse dataset, todos os atributos são numéricos e podem ser considerados para o PCA. No entanto, quanto as classes disponíveis, foram realizados alguns testes mas todas as duplas de letras apresentavam alguma interseção na nuvem de pontos. De qualquer forma, o _array_ __classes__ pode ser modificado, trocando as letras escolhidas por outras letras em maíusculo do alfabeto para que suas nuvens de pontos possam ser analisadas."
   ]
  },
  {
   "cell_type": "code",
   "execution_count": null,
   "id": "c5d3d2c4-46b0-4259-a4c1-c8c3edbe0615",
   "metadata": {},
   "outputs": [],
   "source": [
    "# Listando as features e as classes\n",
    "features = ['X-box', 'Y-box', 'Width', 'High', 'Onpix', 'X-bar', 'Y-bar', 'X2bar',\n",
    "            'Y2bar', 'Xybar', 'X2ybr', 'Xy2br', 'X-ege', 'Xegvy', 'Y-ege', 'Yegvx']\n",
    "classes = ['P', 'A']\n",
    "\n",
    "construct_and_classify(features, classes, letter_df)"
   ]
  },
  {
   "cell_type": "markdown",
   "id": "fc428ac3-5840-4b6e-b9f8-7ba9f5137da0",
   "metadata": {
    "id": "fc428ac3-5840-4b6e-b9f8-7ba9f5137da0"
   },
   "source": [
    "## __Titanic__\n",
    "\n",
    "Para o dataset __Titanic__, como só haviam duas classificações possíveis: __1__ e __-1__ (que indica que a pessoa sobreviveu ou não sobreviveu, respectivamente); todas as classes foram consideradas.\n",
    "\n",
    "Os plots realizados para esse dataset são um tanto quanto diferentes, visto que os pontos de ambas as classes coincidem, quando analisamos a disposição deles no plano após o PCA. Essa situação indica que, com os dados disponíveis no dataset, não há diferenciação entre as pessoas que sobreviveram ou não sobreviveram ao incidente, ou seja, não existe alguma característica mapeada no dataset que seja um atributo decisivo para separar essas classes no plano."
   ]
  },
  {
   "cell_type": "code",
   "execution_count": null,
   "id": "bc671519-756f-47d1-a558-0d89b88dfbcc",
   "metadata": {
    "id": "bc671519-756f-47d1-a558-0d89b88dfbcc"
   },
   "outputs": [],
   "source": [
    "# Normalizando os valores para fazer o PCA\n",
    "\n",
    "features = ['TicketClass', 'Age', 'Sex']\n",
    "classes = [1, -1]\n",
    "\n",
    "construct_and_classify(features, classes, titanic_df)"
   ]
  },
  {
   "cell_type": "markdown",
   "id": "6769e07b-6c0d-4334-b700-08f2b1c510c9",
   "metadata": {
    "id": "6769e07b-6c0d-4334-b700-08f2b1c510c9"
   },
   "source": [
    "## __Resultados__\n",
    "\n",
    "Após a experimentação, alguns resultados e conclusões puderam ser obtidas. Apesar de dez datasets diferentes terem sidos analisados, muitos deles não eram linearmente separáveis, o que impedia o prosseguimento para as classificações e, consequentemente, a avaliação da qualidade do classificador proposto. No entanto, para àqueles datasets onde foi possível avaliar o classificador, foram obtidos resultados surpreendentementes, dado a simplicidade do método. As métricas calculadas apontam que a precisão, revocação e F1-Score para esses casos foi relativamente boa e, através dos plots pós classificação, foi possível confirmar que poucos erros aconteceram, de fato. No entanto, há um certo viés nesses resultados, visto que para favorecer a separabilidade linear algumas classes foram propositalmente escolhidas para que a classificação pudesse ocorrer.\n",
    "\n",
    "No geral, o caráter dessa experimentação não era ser tão fiel ao conteúdo real do dataset, e sim mostrar de maneira didática o processo de classificação de amostras e o método proposto para classificação como um todo, assim como foi especificado nos motivos da escolha das classes para cada dataset. Assim, mesmo que com poucos exemplos, os resultados foram interessantes e demonstram que, para conjuntos de dados simples e preferencialmente bem divididos no espaço, por mais simplório que seja o método de classificação, ele pode ser bem útil, visto que pode ser executado de maneira imediata, diferentemente de algoritmos de aprendizado de máquina que, dependendo do dataset e da rede neural proposta, podem demorar muito tempo no processo de treinamento e, por conseguinte, serem inviáveis para determinados tipos de aplicação."
   ]
  },
  {
   "cell_type": "markdown",
   "id": "b1901688-dfbe-4fd4-9b49-cdb5aa6b7035",
   "metadata": {
    "id": "5066cd2d-2df8-4762-ba9b-c25d941370dd"
   },
   "source": [
    "## __Conclusão__\n",
    "\n",
    "Neste trabalho foi desenvolvido um classificador supervisionado a partir de conceitos de geometria computacional. O classificador propriamente não é muito eficaz, visto que, atualmente, existem estratégias com acurácia maior e menos restrições para classificação (mesmo fora do campo de _machine learning_, existem algoritmos também inspirados em geometria computacional que utilizam estratégias mais sofisticadas para dividir e classificar datasets). Apesar disso, para os datasets que puderam ser classificados, foi muito interessante observar o seu funcionamento e, junto disso, suas limitações (desde os conjuntos não serem linearmente separáveis até a reta classificadora cortar uma das envoltórias e, por causa disso, muitos pontos que estavam nesse região separada foram classificados incorretamente).\n",
    "\n",
    "Contudo, a construção desse regressor foi muito importante para a fixação dos conceitos e algoritmos abordados nas aulas sobre geometria computacional. Além disso, foi possível perceber que os algoritmos e primitivas geométricas tem aplicações que vão muito além das aplicações clássicas e conhecidas para geometria computacional, o que incentivou uma percepção diferente em relação à abstração e solução de problemas computacionais, de modo geral."
   ]
  },
  {
   "cell_type": "markdown",
   "id": "fd7aefed-7882-401e-8156-2d87bccba9f8",
   "metadata": {},
   "source": [
    "## __Referências__\n",
    "\n",
    "Vimieiro, R. (2022). _Slides sobre Geometria Computacional da disciplina de Algoritmos II_. Departamento de Ciência da Computação - Universidade Federal de Minas Gerais.\n",
    "\n",
    "KEEL. (2018). _Standard Classification data sets_. URL<[https://sci2s.ugr.es/keel/category.php?cat=clas#inicio](https://sci2s.ugr.es/keel/category.php?cat=clas#inicio)>. Acesso em 12 de out. de 2022.\n",
    "\n",
    "Wikipedia. (2022). _Precisão e revocação_. URL: <[https://pt.wikipedia.org/wiki/Precis%C3%A3o_e_revoca%C3%A7%C3%A3o](https://pt.wikipedia.org/wiki/Precis%C3%A3o_e_revoca%C3%A7%C3%A3o)>. Acesso em 27 de out. de 2022.\n",
    "\n",
    "Wikipedia. (2022). _Principal component analysis_. URL: <[https://en.wikipedia.org/wiki/Principal_component_analysis](https://en.wikipedia.org/wiki/Principal_component_analysis)>. Acesso em 16 de out. de 2022.\n",
    "\n",
    "Bertan, E. (2020). _O que é Precisão e Revocação_. Medium. URL: <[https://medium.com/computando-arte/o-que-%C3%A9-precis%C3%A3o-e-revoca%C3%A7%C3%A3o-b0b991b67cde](https://medium.com/computando-arte/o-que-%C3%A9-precis%C3%A3o-e-revoca%C3%A7%C3%A3o-b0b991b67cde)>. Acesso em 27 de out. de 2022.\n",
    "\n",
    "Allwright, S. (2022). _What is a good F1 score and how do I interpret it?_. Site pessoal. URL: <[https://stephenallwright.com/good-f1-score/](https://stephenallwright.com/good-f1-score/)>. Acesso em 27 de out. de 2022."
   ]
  },
  {
   "cell_type": "code",
   "execution_count": null,
   "id": "6c5f96c1-f8d0-4ca7-aa8c-12f84ae446ae",
   "metadata": {},
   "outputs": [],
   "source": []
  }
 ],
 "metadata": {
  "colab": {
   "provenance": []
  },
  "kernelspec": {
   "display_name": "Python 3 (ipykernel)",
   "language": "python",
   "name": "python3"
  },
  "language_info": {
   "codemirror_mode": {
    "name": "ipython",
    "version": 3
   },
   "file_extension": ".py",
   "mimetype": "text/x-python",
   "name": "python",
   "nbconvert_exporter": "python",
   "pygments_lexer": "ipython3",
   "version": "3.10.6"
  }
 },
 "nbformat": 4,
 "nbformat_minor": 5
}
